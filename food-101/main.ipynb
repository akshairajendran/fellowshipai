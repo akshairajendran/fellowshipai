{
 "cells": [
  {
   "cell_type": "markdown",
   "metadata": {},
   "source": [
    "# Fellowship.AI Challenge: Food-101"
   ]
  },
  {
   "cell_type": "markdown",
   "metadata": {},
   "source": [
    "## Notebook Layout\n",
    "  * [Imports](#imports)\n",
    "  * [Data](#data)\n",
    "    * [Preparation](#data-preparation)\n",
    "    * Loading\n",
    "  * Model\n",
    "    * Architecture\n",
    "    * Instantiation\n",
    "  * Training\n",
    "  * Testing\n",
    "  \n",
    "Please note that this notebook is structured such that each cell is meant to be run in sequence from top to bottom."
   ]
  },
  {
   "cell_type": "markdown",
   "metadata": {},
   "source": [
    "# Imports <a id='imports'></a>\n",
    "The primary package used in this challenge is [fast.ai's](https://www.fast.ai) fantastic deep learning [library](https://github.com/fastai/fastai). This library is built on top of [PyTorch](https://pytorch.org) and adds a number of convenience functions for data loading, training and testing. Though I will be using much of fast.ai's funcionality in this challenge, I have done my best to thoroughly explain the underlying process and how it sits on top of PyTorch."
   ]
  },
  {
   "cell_type": "code",
   "execution_count": 5,
   "metadata": {},
   "outputs": [],
   "source": [
    "from fastai.vision import *"
   ]
  },
  {
   "cell_type": "markdown",
   "metadata": {},
   "source": [
    "# Data <a id='data'></a>"
   ]
  },
  {
   "cell_type": "markdown",
   "metadata": {},
   "source": [
    "## Preparation <a id='data-preparation'></a>\n",
    "In the following cells, I prepare the data and corresponding labels that will be used to build the data loader. The original data set contains a folder of images by image class and a set of text files describing which images belong to the training and test set."
   ]
  },
  {
   "cell_type": "code",
   "execution_count": 2,
   "metadata": {},
   "outputs": [],
   "source": [
    "path = Path('data/food-101/')"
   ]
  },
  {
   "cell_type": "code",
   "execution_count": 3,
   "metadata": {},
   "outputs": [
    {
     "data": {
      "text/plain": [
       "[PosixPath('data/food-101/images'),\n",
       " PosixPath('data/food-101/license_agreement.txt'),\n",
       " PosixPath('data/food-101/meta'),\n",
       " PosixPath('data/food-101/README.txt')]"
      ]
     },
     "execution_count": 3,
     "metadata": {},
     "output_type": "execute_result"
    }
   ],
   "source": [
    "path.ls()"
   ]
  }
 ],
 "metadata": {
  "kernelspec": {
   "display_name": "Python 3",
   "language": "python",
   "name": "python3"
  },
  "language_info": {
   "codemirror_mode": {
    "name": "ipython",
    "version": 3
   },
   "file_extension": ".py",
   "mimetype": "text/x-python",
   "name": "python",
   "nbconvert_exporter": "python",
   "pygments_lexer": "ipython3",
   "version": "3.7.1"
  }
 },
 "nbformat": 4,
 "nbformat_minor": 2
}
